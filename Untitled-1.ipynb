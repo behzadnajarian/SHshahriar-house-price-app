{
 "cells": [
  {
   "cell_type": "code",
   "execution_count": null,
   "metadata": {},
   "outputs": [],
   "source": [
    "import streamlit as st\n",
    "import pandas as pd\n",
    "import numpy as np\n",
    "import joblib\n",
    "\n",
    "from sklearn.linear_model import LinearRegression\n",
    "from sklearn.model_selection import train_test_split\n",
    "\n",
    "# بارگذاری دیتاست\n",
    "df = pd.read_csv(\"dataset_shahriar_housing.csv\")\n",
    "X = df.drop(columns=[\"قیمت نهایی (تومان)\"])\n",
    "y = df[\"قیمت نهایی (تومان)\"]\n",
    "X_encoded = pd.get_dummies(X, columns=[\"منطقه\", \"نوع ملک\"])\n",
    "\n",
    "# آموزش مدل\n",
    "model = LinearRegression()\n",
    "model.fit(X_encoded, y)\n",
    "\n",
    "# رابط کاربری Streamlit\n",
    "st.title(\"🧱 پیش‌بینی قیمت خانه در شهریار\")\n",
    "st.write(\"ویژگی‌های خونه‌ات رو وارد کن:\")\n",
    "\n",
    "area = st.selectbox(\"منطقه\", ['فاز 1', 'فاز 3', 'باغستان', 'کردزار', 'وائین', 'فردوسیه'])\n",
    "ptype = st.selectbox(\"نوع ملک\", ['آپارتمان', 'ویلایی', 'باغ ویلا'])\n",
    "size = st.slider(\"متراژ (متر مربع)\", 50, 500, 100)\n",
    "rooms = st.slider(\"تعداد اتاق خواب\", 1, 6, 2)\n",
    "year = st.slider(\"سال ساخت\", 1380, 1402, 1395)\n",
    "parking = st.checkbox(\"پارکینگ دارد\")\n",
    "elevator = st.checkbox(\"آسانسور دارد\") if ptype == \"آپارتمان\" else False\n",
    "storage = st.checkbox(\"انباری دارد\")\n",
    "pool = st.checkbox(\"استخر دارد\") if ptype != \"آپارتمان\" else False\n",
    "\n",
    "# آماده‌سازی ورودی کاربر\n",
    "input_data = {\n",
    "    'متراژ': size,\n",
    "    'تعداد اتاق': rooms,\n",
    "    'سال ساخت': year,\n",
    "    'پارکینگ': int(parking),\n",
    "    'آسانسور': int(elevator),\n",
    "    'انباری': int(storage),\n",
    "    'استخر': int(pool),\n",
    "}\n",
    "\n",
    "for col in X_encoded.columns:\n",
    "    if 'منطقه_' in col:\n",
    "        input_data[col] = 1 if col == f'منطقه_{area}' else 0\n",
    "    elif 'نوع ملک_' in col:\n",
    "        input_data[col] = 1 if col == f'نوع ملک_{ptype}' else 0\n",
    "\n",
    "input_df = pd.DataFrame([input_data])\n",
    "prediction = model.predict(input_df)[0]\n",
    "\n",
    "st.success(f\"💰 قیمت تخمینی خانه: {int(prediction):,} تومان\")\n"
   ]
  }
 ],
 "metadata": {
  "kernelspec": {
   "display_name": "Python 3.8.8 64-bit",
   "language": "python",
   "name": "python3"
  },
  "language_info": {
   "name": "python",
   "version": "3.8.8"
  },
  "orig_nbformat": 4,
  "vscode": {
   "interpreter": {
    "hash": "180687a2134767597fda2b64b7f01362e64667ee8f4d072889f2dca338d90eea"
   }
  }
 },
 "nbformat": 4,
 "nbformat_minor": 2
}
